{
  "cells": [
    {
      "cell_type": "code",
      "execution_count": null,
      "metadata": {
        "colab": {
          "base_uri": "https://localhost:8080/"
        },
        "id": "Mk9s86ki2Oc4",
        "outputId": "5ec131aa-6e6d-4db3-ac2a-0a7a25a49a98"
      },
      "outputs": [],
      "source": [
        "from google.colab import drive\n",
        "drive.mount('/content/drive')"
      ]
    },
    {
      "cell_type": "code",
      "execution_count": null,
      "metadata": {
        "id": "4ikqh-TmOL4m"
      },
      "outputs": [],
      "source": [
        "from keras.models import Sequential\n",
        "from keras.layers import Flatten, Dense, BatchNormalization, Dropout\n",
        "from keras.applications import VGG16\n",
        "import matplotlib.pyplot as plt\n",
        "import numpy as np\n",
        "from keras.callbacks import ModelCheckpoint, EarlyStopping\n",
        "from keras.preprocessing.image import ImageDataGenerator\n"
      ]
    },
    {
      "cell_type": "code",
      "execution_count": null,
      "metadata": {
        "id": "I8ewykd4O3it"
      },
      "outputs": [],
      "source": [
        "train_path = 'dataset/train'\n",
        "test_path = 'dataset/test'\n",
        "val_path = 'dataset/val'"
      ]
    },
    {
      "cell_type": "code",
      "execution_count": null,
      "metadata": {
        "collapsed": true,
        "id": "CFKQKMxQRcgj"
      },
      "outputs": [],
      "source": [
        "train_data_gen = ImageDataGenerator(rescale=1/255) # Ölçeklendirme\n",
        "test_data_gen = ImageDataGenerator(rescale=1/255)\n",
        "val_data_gen = ImageDataGenerator(rescale=1/255)\n"
      ]
    },
    {
      "cell_type": "code",
      "execution_count": null,
      "metadata": {
        "colab": {
          "base_uri": "https://localhost:8080/"
        },
        "collapsed": true,
        "id": "VXarxBe9RUU8",
        "outputId": "2b58b65f-9981-43fe-cc34-fe87d1f1a429"
      },
      "outputs": [],
      "source": [
        "train_generator = train_data_gen.flow_from_directory(\n",
        "        train_path,\n",
        "        target_size=(224,224), # Görüntü boyutları\n",
        "        batch_size=16,\n",
        "        class_mode='categorical')  # Sınıf modu, çok sınıflı bir sınıflandırma olduğu için 'categorical'"
      ]
    },
    {
      "cell_type": "code",
      "execution_count": null,
      "metadata": {
        "colab": {
          "base_uri": "https://localhost:8080/"
        },
        "collapsed": true,
        "id": "4R9ntNnhqHUE",
        "outputId": "4adc8a99-a4c2-4f77-f450-2d97d8c89131"
      },
      "outputs": [],
      "source": [
        "test_generator = test_data_gen.flow_from_directory(\n",
        "    test_path,\n",
        "    target_size=(224,224),  # Görüntü boyutları\n",
        "    batch_size=16,\n",
        "    class_mode='categorical'  # Sınıf modu, çok sınıflı bir sınıflandırma olduğu için 'categorical'\n",
        ")"
      ]
    },
    {
      "cell_type": "code",
      "execution_count": null,
      "metadata": {
        "colab": {
          "base_uri": "https://localhost:8080/"
        },
        "id": "oyqoPDk81TNv",
        "outputId": "ac3c7904-72b3-458c-e521-9defdda08d99"
      },
      "outputs": [],
      "source": [
        "val_generator = val_data_gen.flow_from_directory(\n",
        "    val_path,\n",
        "    target_size=(224,224),  # Görüntü boyutları\n",
        "    batch_size=16,\n",
        "    class_mode='categorical'  # Sınıf modu, çok sınıflı bir sınıflandırma olduğu için 'categorical'\n",
        ")"
      ]
    },
    {
      "cell_type": "code",
      "execution_count": null,
      "metadata": {
        "collapsed": true,
        "id": "jgOky9kpqMXH"
      },
      "outputs": [],
      "source": [
        "vgg = VGG16(\n",
        "    input_shape=(224,224,3),\n",
        "    weights='imagenet',\n",
        "    include_top=False)"
      ]
    },
    {
      "cell_type": "code",
      "execution_count": null,
      "metadata": {
        "collapsed": true,
        "id": "jbaOH1Fxqmla"
      },
      "outputs": [],
      "source": [
        "model = Sequential()\n",
        "model.add(vgg)\n",
        "model.add(BatchNormalization())\n",
        "model.add(Flatten())\n",
        "model.add(Dense(4096, activation='relu'))\n",
        "model.add(Dropout(0.25))\n",
        "model.add(Dense(4 , activation='softmax'))"
      ]
    },
    {
      "cell_type": "code",
      "execution_count": null,
      "metadata": {
        "colab": {
          "base_uri": "https://localhost:8080/"
        },
        "id": "MzD4PgxQtTws",
        "outputId": "9ff6d38c-da14-4fde-a389-364ea239f745"
      },
      "outputs": [],
      "source": [
        "model.summary()"
      ]
    },
    {
      "cell_type": "code",
      "execution_count": null,
      "metadata": {
        "id": "LvYTtIqYtza2"
      },
      "outputs": [],
      "source": [
        "model.compile(optimizer='Adadelta', loss='categorical_crossentropy', metrics=['accuracy'])"
      ]
    },
    {
      "cell_type": "code",
      "execution_count": null,
      "metadata": {
        "id": "D5LpkQGPxII5"
      },
      "outputs": [],
      "source": [
        "checkpoint = ModelCheckpoint(\n",
        "    f'/content/drive/MyDrive/muhendislik-tasarimi/VGG/vgg-model_adadelta2.h5',\n",
        "     monitor='val_accuracy',\n",
        "     verbose=1,\n",
        "     save_best_only=True,\n",
        "     mode = 'max'\n",
        ")"
      ]
    },
    {
      "cell_type": "code",
      "execution_count": null,
      "metadata": {
        "id": "VsJxrOXPC46y"
      },
      "outputs": [],
      "source": [
        "earlystop = EarlyStopping(monitor='val_accuracy',\n",
        "                          patience=5,\n",
        "                          verbose=1,\n",
        "                          mode = 'max')"
      ]
    },
    {
      "cell_type": "code",
      "execution_count": null,
      "metadata": {
        "colab": {
          "base_uri": "https://localhost:8080/"
        },
        "id": "qeuWt7IuDjuD",
        "outputId": "a0056877-671e-4131-b8ec-af626292978d"
      },
      "outputs": [],
      "source": [
        "result = model.fit(\n",
        "    train_generator,\n",
        "    steps_per_epoch=train_generator.samples // train_generator.batch_size,\n",
        "    validation_data=val_generator,\n",
        "    validation_steps=val_generator.samples // val_generator.batch_size,\n",
        "    epochs=15,\n",
        "    callbacks = [earlystop, checkpoint])"
      ]
    },
    {
      "cell_type": "code",
      "execution_count": null,
      "metadata": {
        "colab": {
          "base_uri": "https://localhost:8080/",
          "height": 472
        },
        "id": "fc85HS0ZxgGL",
        "outputId": "dd0431a2-af61-488c-8cd1-875b1b3ad161"
      },
      "outputs": [
        {
          "data": {
            "image/png": "[encoded data removed]",
            "text/plain": [
              "<Figure size 640x480 with 1 Axes>"
            ]
          },
          "metadata": {},
          "output_type": "display_data"
        }
      ],
      "source": [
        "train_loss = result.history['loss']\n",
        "train_accuracy = result.history['accuracy']\n",
        "\n",
        "# train loss ve train accuracy görselleştirilmesi\n",
        "epochs = range(1, len(train_loss) + 1)\n",
        "\n",
        "plt.plot(epochs, train_loss, 'b', label='Training loss')\n",
        "plt.plot(epochs, train_accuracy, 'r', label='Training accuracy')\n",
        "plt.title('Training Loss and Accuracy')\n",
        "plt.xlabel('Epochs')\n",
        "plt.ylabel('Loss / Accuracy')\n",
        "plt.legend()\n",
        "\n",
        "plt.show()"
      ]
    },
    {
      "cell_type": "code",
      "execution_count": null,
      "metadata": {
        "colab": {
          "base_uri": "https://localhost:8080/"
        },
        "id": "9k04IO59GGG0",
        "outputId": "df35461a-bc4a-4e6a-d6f6-e0874737cbaa"
      },
      "outputs": [
        {
          "name": "stdout",
          "output_type": "stream",
          "text": [
            "23/23 [==============================] - 29s 1s/step - loss: 0.1181 - accuracy: 0.9559\n",
            "Test Loss: 0.11810389161109924\n",
            "Test Accuracy: 0.9559228420257568\n"
          ]
        }
      ],
      "source": [
        "test_loss, test_accuracy = model.evaluate(test_generator, steps=len(test_generator))\n",
        "print(f\"Test Loss: {test_loss}\")\n",
        "print(f\"Test Accuracy: {test_accuracy}\")\n",
        "\n"
      ]
    },
    {
      "cell_type": "code",
      "execution_count": null,
      "metadata": {
        "colab": {
          "base_uri": "https://localhost:8080/",
          "height": 823
        },
        "id": "Bw6fEaVzpAcu",
        "outputId": "f194f526-7cd7-46ca-dcbf-bf2ac1bda4c1"
      },
      "outputs": [],
      "source": [
        "# model ile tahmin etme\n",
        "predictions = model.predict(test_generator)\n",
        "\n",
        "# test verileri ve tahmin edilen değerler arasındaki karşılaştırma\n",
        "num_samples_to_visualize = 20\n",
        "test_labels = []  # Gerçek değerleri tutan boş liste\n",
        "predicted_labels = []  # Tahmin edilen değerleri tutan boş liste\n",
        "\n",
        "# test datalarından örnekler\n",
        "for i, (_, labels) in enumerate(test_generator):\n",
        "    test_labels.extend(labels.argmax(axis=1))  # Gerçek etiketleri al\n",
        "    predicted_labels.extend(predictions.argmax(axis=1))  # Tahmin edilen etiketleri al\n",
        "    if i == num_samples_to_visualize - 1:\n",
        "        break\n",
        "\n",
        "# Sonuçları görselleştir\n",
        "plt.figure(figsize=(12, 8))\n",
        "for i in range(num_samples_to_visualize):\n",
        "    plt.subplot(5, 4, i + 1)\n",
        "    plt.imshow(test_generator[i][0][0])  # Test resmini göster\n",
        "    plt.title(f'Real: {test_labels[i]}, Predicted: {predicted_labels[i]}')\n",
        "    plt.axis('off')\n",
        "\n",
        "plt.tight_layout()\n",
        "plt.show()\n"
      ]
    }
  ],
  "metadata": {
    "accelerator": "GPU",
    "colab": {
      "gpuType": "T4",
      "provenance": []
    },
    "kernelspec": {
      "display_name": "Python 3",
      "name": "python3"
    },
    "language_info": {
      "name": "python"
    }
  },
  "nbformat": 4,
  "nbformat_minor": 0
}

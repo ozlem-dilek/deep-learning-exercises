{
  "cells": [
    {
      "cell_type": "code",
      "execution_count": null,
      "metadata": {
        "colab": {
          "base_uri": "https://localhost:8080/"
        },
        "id": "ZocsOdcDWVdq",
        "outputId": "7184c987-fb7d-40fd-8980-1527275c0f33"
      },
      "outputs": [],
      "source": [
        "from google.colab import drive\n",
        "drive.mount('/content/drive')"
      ]
    },
    {
      "cell_type": "code",
      "execution_count": null,
      "metadata": {
        "id": "2FmYZhO_Rd7q"
      },
      "outputs": [],
      "source": [
        "from keras.applications import ResNet50\n",
        "from keras.preprocessing.image import ImageDataGenerator\n",
        "from keras.models import Sequential\n",
        "from keras.layers import Dense, GlobalAveragePooling2D, Dropout\n",
        "from keras.callbacks import ModelCheckpoint, EarlyStopping\n"
      ]
    },
    {
      "cell_type": "code",
      "execution_count": null,
      "metadata": {
        "id": "KbYDpbCAR2cq"
      },
      "outputs": [],
      "source": [
        "train_path = 'dataset/train'\n",
        "test_path = 'dataset/test'\n",
        "val_path = 'dataset/val'"
      ]
    },
    {
      "cell_type": "code",
      "execution_count": null,
      "metadata": {
        "id": "phnnttSDR7d9"
      },
      "outputs": [],
      "source": [
        "train_data_gen = ImageDataGenerator(rescale=1/255) # Ölçeklendirme\n",
        "test_data_gen = ImageDataGenerator(rescale=1/255)\n",
        "val_data_gen = ImageDataGenerator(rescale=1/255)\n"
      ]
    },
    {
      "cell_type": "code",
      "execution_count": null,
      "metadata": {
        "colab": {
          "base_uri": "https://localhost:8080/"
        },
        "id": "B-qkYIcJR91J",
        "outputId": "8ebdfe18-ad26-4c4b-e57c-0a0704381a91"
      },
      "outputs": [
        {
          "name": "stdout",
          "output_type": "stream",
          "text": [
            "Found 2889 images belonging to 4 classes.\n"
          ]
        }
      ],
      "source": [
        "train_generator = train_data_gen.flow_from_directory(\n",
        "        train_path,\n",
        "        target_size=(224,224), # Görüntü boyutları\n",
        "        batch_size=16,\n",
        "        class_mode='categorical')  # Sınıf modu, çok sınıflı bir sınıflandırma olduğu için 'categorical'"
      ]
    },
    {
      "cell_type": "code",
      "execution_count": null,
      "metadata": {
        "colab": {
          "base_uri": "https://localhost:8080/"
        },
        "id": "bGEW1zRPR_TH",
        "outputId": "af8eaaa3-52bc-4e05-80db-4549e9740e40"
      },
      "outputs": [
        {
          "name": "stdout",
          "output_type": "stream",
          "text": [
            "Found 363 images belonging to 4 classes.\n"
          ]
        }
      ],
      "source": [
        "test_generator = test_data_gen.flow_from_directory(\n",
        "    test_path,\n",
        "    target_size=(224,224),  # Görüntü boyutları\n",
        "    batch_size=16,\n",
        "    class_mode='categorical'  # Sınıf modu, çok sınıflı bir sınıflandırma olduğu için 'categorical'\n",
        ")"
      ]
    },
    {
      "cell_type": "code",
      "execution_count": null,
      "metadata": {
        "colab": {
          "base_uri": "https://localhost:8080/"
        },
        "id": "VqydZ22VSFL4",
        "outputId": "303980c5-7398-44f5-b997-5438fdb377c6"
      },
      "outputs": [
        {
          "name": "stdout",
          "output_type": "stream",
          "text": [
            "Found 358 images belonging to 4 classes.\n"
          ]
        }
      ],
      "source": [
        "val_generator = val_data_gen.flow_from_directory(\n",
        "    val_path,\n",
        "    target_size=(224,224),  # Görüntü boyutları\n",
        "    batch_size=16,\n",
        "    class_mode='categorical'  # Sınıf modu, çok sınıflı bir sınıflandırma olduğu için 'categorical'\n",
        ")"
      ]
    },
    {
      "cell_type": "code",
      "execution_count": null,
      "metadata": {
        "id": "M-9q2H7wSHTG"
      },
      "outputs": [],
      "source": [
        "checkpoint = ModelCheckpoint(\n",
        "    f'model.h5',\n",
        "     monitor='val_accuracy',\n",
        "     verbose=1,\n",
        "     save_best_only=True,\n",
        "     mode = 'max'\n",
        ")"
      ]
    },
    {
      "cell_type": "code",
      "execution_count": null,
      "metadata": {
        "id": "a5zyGKMSSJlc"
      },
      "outputs": [],
      "source": [
        "earlystop = EarlyStopping(monitor='val_accuracy',\n",
        "                          patience=5,\n",
        "                          verbose=1,\n",
        "                          mode = 'max')"
      ]
    },
    {
      "cell_type": "code",
      "execution_count": null,
      "metadata": {
        "id": "XyRJGL2RSV-l"
      },
      "outputs": [],
      "source": [
        "model = Sequential()\n",
        "resnet = ResNet50(weights='imagenet', include_top=False, input_shape=(224, 224, 3))\n",
        "model.add(resnet)\n",
        "\n",
        "model.add(GlobalAveragePooling2D())\n",
        "model.add(Dense(1024, activation='relu'))\n",
        "model.add(Dropout(0.5))\n",
        "model.add(Dense(1024, activation='relu'))\n",
        "model.add(Dropout(0.5))\n",
        "model.add(Dense(4, activation='softmax'))"
      ]
    },
    {
      "cell_type": "code",
      "execution_count": null,
      "metadata": {
        "id": "1JQTJQ66SM2N"
      },
      "outputs": [],
      "source": [
        "model.compile(optimizer='Adadelta', loss='categorical_crossentropy', metrics=['accuracy'])\n"
      ]
    },
    {
      "cell_type": "code",
      "execution_count": null,
      "metadata": {
        "colab": {
          "base_uri": "https://localhost:8080/"
        },
        "id": "XBEQam16XM7k",
        "outputId": "93f4a5e7-c6f1-4a29-8234-49eab49fea83"
      },
      "outputs": [],
      "source": [
        "results = model.fit(train_generator, epochs=20, verbose=1, callbacks=[checkpoint,earlystop], validation_data= val_generator)\n"
      ]
    },
    {
      "cell_type": "code",
      "execution_count": null,
      "metadata": {
        "colab": {
          "base_uri": "https://localhost:8080/",
          "height": 472
        },
        "id": "TtIHcqPwZL8v",
        "outputId": "6eff6820-adc9-4dd0-ade9-20b59b86db02"
      },
      "outputs": [
        {
          "data": {
            "image/png": "[encoded data removed]",
            "text/plain": [
              "<Figure size 640x480 with 1 Axes>"
            ]
          },
          "metadata": {},
          "output_type": "display_data"
        }
      ],
      "source": [
        "import matplotlib.pyplot as plt\n",
        "train_loss = results.history['loss']\n",
        "train_accuracy = results.history['accuracy']\n",
        "\n",
        "# train loss ve train accuracy görselleştirilmesi\n",
        "epochs = range(1, len(train_loss) + 1)\n",
        "\n",
        "plt.plot(epochs, train_loss, 'b', label='Training loss')\n",
        "plt.plot(epochs, train_accuracy, 'r', label='Training accuracy')\n",
        "plt.title('Training Loss and Accuracy')\n",
        "plt.xlabel('Epochs')\n",
        "plt.ylabel('Loss / Accuracy')\n",
        "plt.legend()\n",
        "\n",
        "plt.show()"
      ]
    },
    {
      "cell_type": "code",
      "execution_count": null,
      "metadata": {
        "colab": {
          "base_uri": "https://localhost:8080/"
        },
        "id": "9JFeSJuTZMZc",
        "outputId": "de04b66f-6398-41a2-ff44-450718141c30"
      },
      "outputs": [
        {
          "name": "stdout",
          "output_type": "stream",
          "text": [
            "23/23 [==============================] - 21s 935ms/step - loss: 0.2410 - accuracy: 0.9174\n",
            "Test Loss: 0.24102024734020233\n",
            "Test Accuracy: 0.9173553586006165\n"
          ]
        }
      ],
      "source": [
        "test_loss, test_accuracy = model.evaluate(test_generator, steps=len(test_generator))\n",
        "print(f\"Test Loss: {test_loss}\")\n",
        "print(f\"Test Accuracy: {test_accuracy}\")\n",
        "\n"
      ]
    },
    {
      "cell_type": "code",
      "execution_count": null,
      "metadata": {
        "colab": {
          "base_uri": "https://localhost:8080/",
          "height": 823
        },
        "collapsed": true,
        "id": "g2V7876TZOpc",
        "outputId": "9fcc6898-003e-463f-b8b2-9d0a2957667e"
      },
      "outputs": [],
      "source": [
        "#model ile tahmin (test verileriyle)\n",
        "predictions = model.predict(test_generator)\n",
        "\n",
        "# test verileri ve tahmin edilen değerler arasındaki karşılaştırma\n",
        "num_samples_to_visualize = 20\n",
        "test_labels = []  # Gerçek değerleri tutan boş liste\n",
        "predicted_labels = []  # Tahmin edilen değerleri tutan boş liste\n",
        "\n",
        "# Test verilerinden örnekleri al\n",
        "for i, (_, labels) in enumerate(test_generator):\n",
        "    test_labels.extend(labels.argmax(axis=1))  # Gerçek etiketleri al\n",
        "    predicted_labels.extend(predictions.argmax(axis=1))  # Tahmin edilen etiketleri al\n",
        "    if i == num_samples_to_visualize - 1:\n",
        "        break\n",
        "\n",
        "# Sonuçları görselleştir\n",
        "plt.figure(figsize=(12, 8))\n",
        "for i in range(num_samples_to_visualize):\n",
        "    plt.subplot(5, 4, i + 1)\n",
        "    plt.imshow(test_generator[i][0][0])  # Test resmini göster\n",
        "    plt.title(f'Real: {test_labels[i]}, Predicted: {predicted_labels[i]}')\n",
        "    plt.axis('off')\n",
        "\n",
        "plt.tight_layout()\n",
        "plt.show()\n"
      ]
    }
  ],
  "metadata": {
    "accelerator": "GPU",
    "colab": {
      "gpuType": "T4",
      "provenance": []
    },
    "kernelspec": {
      "display_name": "Python 3",
      "name": "python3"
    },
    "language_info": {
      "codemirror_mode": {
        "name": "ipython",
        "version": 3
      },
      "file_extension": ".py",
      "mimetype": "text/x-python",
      "name": "python",
      "nbconvert_exporter": "python",
      "pygments_lexer": "ipython3",
      "version": "3.12.0"
    }
  },
  "nbformat": 4,
  "nbformat_minor": 0
}

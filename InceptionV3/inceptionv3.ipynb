{
  "cells": [
    {
      "cell_type": "code",
      "execution_count": null,
      "metadata": {
        "id": "h26sX4p75Z04"
      },
      "outputs": [],
      "source": [
        "from keras.applications import InceptionV3\n",
        "from keras.layers import Dense, GlobalAveragePooling2D\n",
        "from keras.models import Sequential\n",
        "from keras.preprocessing.image import ImageDataGenerator\n",
        "from keras.callbacks import ModelCheckpoint, EarlyStopping"
      ]
    },
    {
      "cell_type": "code",
      "execution_count": null,
      "metadata": {
        "id": "GioX3azC6aJt"
      },
      "outputs": [],
      "source": [
        "train_path = 'dataset/train'\n",
        "test_path = 'dataset/test'\n",
        "val_path = 'dataset/val'"
      ]
    },
    {
      "cell_type": "code",
      "execution_count": null,
      "metadata": {
        "id": "JW1D7yBa6Wv-"
      },
      "outputs": [],
      "source": [
        "train_data_gen = ImageDataGenerator(rescale=1/255)\n",
        "test_data_gen = ImageDataGenerator(rescale=1/255)\n",
        "val_data_gen = ImageDataGenerator(rescale=1/255)\n"
      ]
    },
    {
      "cell_type": "code",
      "execution_count": null,
      "metadata": {
        "colab": {
          "base_uri": "https://localhost:8080/"
        },
        "id": "9RK1bYO76Wh6",
        "outputId": "88e2d57b-41e4-4f8c-bfd1-29d7fa5af0e9"
      },
      "outputs": [],
      "source": [
        "train_generator = train_data_gen.flow_from_directory(\n",
        "        train_path,\n",
        "        target_size=(299, 299),\n",
        "        batch_size=32,\n",
        "        class_mode='categorical')"
      ]
    },
    {
      "cell_type": "code",
      "execution_count": null,
      "metadata": {
        "colab": {
          "base_uri": "https://localhost:8080/"
        },
        "id": "OhWQnugw6UCD",
        "outputId": "5a931dd4-c66c-457e-cadd-ca24bd9c6f14"
      },
      "outputs": [],
      "source": [
        "test_generator = test_data_gen.flow_from_directory(\n",
        "    test_path,\n",
        "    target_size=(299, 299),\n",
        "    batch_size=32,\n",
        "    class_mode='categorical'\n",
        ")"
      ]
    },
    {
      "cell_type": "code",
      "execution_count": null,
      "metadata": {
        "colab": {
          "base_uri": "https://localhost:8080/"
        },
        "id": "6fGvuh5z6qsY",
        "outputId": "2f1ddd95-32c7-4053-9921-2f501c3919f6"
      },
      "outputs": [],
      "source": [
        "val_generator = val_data_gen.flow_from_directory(\n",
        "    val_path,\n",
        "    target_size=(299, 299),\n",
        "    batch_size=32,\n",
        "    class_mode='categorical'\n",
        "\n",
        ")"
      ]
    },
    {
      "cell_type": "code",
      "execution_count": null,
      "metadata": {
        "id": "3ZbJgfWV6tlc"
      },
      "outputs": [],
      "source": [
        "checkpoint = ModelCheckpoint(\n",
        "    f'inceptionv3.h5',\n",
        "     monitor='val_accuracy',\n",
        "     verbose=1,\n",
        "     save_best_only=True,\n",
        "     mode = 'max'\n",
        ")"
      ]
    },
    {
      "cell_type": "code",
      "execution_count": null,
      "metadata": {
        "id": "6D96KVMl6t4e"
      },
      "outputs": [],
      "source": [
        "earlystop = EarlyStopping(monitor='val_accuracy',\n",
        "                          patience=5,\n",
        "                          verbose=1,\n",
        "                          mode = 'max')"
      ]
    },
    {
      "cell_type": "code",
      "execution_count": null,
      "metadata": {
        "colab": {
          "base_uri": "https://localhost:8080/"
        },
        "id": "2uQVbp9Z6uGh",
        "outputId": "d70c3675-9cfb-4976-dd39-d67ea90dd086"
      },
      "outputs": [],
      "source": [
        "inceptionv3 = InceptionV3(weights='imagenet', include_top=False, input_shape=(299, 299, 3))\n",
        "\n",
        "model = Sequential()\n",
        "model.add(inceptionv3)\n",
        "model.add(GlobalAveragePooling2D())\n",
        "model.add(Dense(1024, activation='relu'))\n",
        "model.add(Dense(train_generator.num_classes, activation='softmax'))\n",
        "\n",
        "# Bazı katmanların eğitilmesini dondurmak (transfer öğrenme)\n",
        "for layer in inceptionv3.layers:\n",
        "    layer.trainable = False"
      ]
    },
    {
      "cell_type": "code",
      "execution_count": null,
      "metadata": {
        "colab": {
          "base_uri": "https://localhost:8080/"
        },
        "id": "iqYY70NaOJvD",
        "outputId": "53fb9110-2eb0-40b8-aad8-832c763cfaa4"
      },
      "outputs": [],
      "source": [
        "model.summary()"
      ]
    },
    {
      "cell_type": "code",
      "execution_count": null,
      "metadata": {
        "id": "ZDsH8yuz6vKP"
      },
      "outputs": [],
      "source": [
        "model.compile(optimizer='Adam', loss='categorical_crossentropy', metrics=['accuracy'])\n"
      ]
    },
    {
      "cell_type": "code",
      "execution_count": null,
      "metadata": {
        "colab": {
          "background_save": true,
          "base_uri": "https://localhost:8080/",
          "height": 452
        },
        "id": "OcyNPeLd6vaX",
        "outputId": "0a34e5a6-a967-4693-aa62-8ee025dc47e1"
      },
      "outputs": [],
      "source": [
        "result = model.fit(\n",
        "    train_generator,\n",
        "    steps_per_epoch=train_generator.samples // train_generator.batch_size,\n",
        "    validation_data=val_generator,\n",
        "    validation_steps=val_generator.samples // val_generator.batch_size,\n",
        "    epochs=15\n",
        ")\n"
      ]
    },
    {
      "cell_type": "code",
      "execution_count": null,
      "metadata": {
        "colab": {
          "background_save": true
        },
        "id": "iPlojeqe8ug0"
      },
      "outputs": [],
      "source": [
        "model.save(\"inceptionv3_model.keras\")"
      ]
    },
    {
      "cell_type": "code",
      "execution_count": null,
      "metadata": {
        "colab": {
          "background_save": true,
          "base_uri": "https://localhost:8080/"
        },
        "id": "r_HAlC5i8yqM",
        "outputId": "6823c25a-4077-4dfb-f6f0-4082a870b674"
      },
      "outputs": [
        {
          "name": "stdout",
          "output_type": "stream",
          "text": [
            "12/12 [==============================] - 163s 14s/step - loss: 0.1177 - accuracy: 0.9587\n",
            "Test Loss: 0.11765893548727036\n",
            "Test Accuracy: 0.9586777091026306\n"
          ]
        }
      ],
      "source": [
        "test_loss, test_accuracy = model.evaluate(test_generator, steps=len(test_generator))\n",
        "print(f\"Test Loss: {test_loss}\")\n",
        "print(f\"Test Accuracy: {test_accuracy}\")\n",
        "\n"
      ]
    }
  ],
  "metadata": {
    "accelerator": "GPU",
    "colab": {
      "gpuType": "T4",
      "provenance": []
    },
    "kernelspec": {
      "display_name": "Python 3",
      "name": "python3"
    },
    "language_info": {
      "name": "python"
    }
  },
  "nbformat": 4,
  "nbformat_minor": 0
}
